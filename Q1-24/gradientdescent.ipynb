{
 "cells": [
  {
   "cell_type": "markdown",
   "id": "ae015b1e-ff9d-4f0c-94f5-5f320d581ecf",
   "metadata": {},
   "source": [
    "Gradient Descent from Andriy Burkov's The Hundred-Page Machine Learning Book "
   ]
  },
  {
   "cell_type": "code",
   "execution_count": 8,
   "id": "0e4cb165-fd5a-437c-bf96-5708c83b965f",
   "metadata": {},
   "outputs": [
    {
     "name": "stdout",
     "output_type": "stream",
     "text": [
      "epoch: 0 loss:  16.44803776\n",
      "epoch: 400 loss:  0.9751626814270299\n",
      "epoch: 800 loss:  0.8577994531501195\n",
      "epoch: 1200 loss:  0.7682536453142526\n",
      "epoch: 1600 loss:  0.6999319330511022\n",
      "epoch: 2000 loss:  0.6478037935057561\n",
      "epoch: 2400 loss:  0.6080310354403143\n",
      "epoch: 2800 loss:  0.5776851934837622\n",
      "epoch: 3200 loss:  0.5545319054332617\n",
      "epoch: 3600 loss:  0.536866396322755\n",
      "epoch: 4000 loss:  0.5233879559624607\n",
      "epoch: 4400 loss:  0.5131041677393426\n",
      "epoch: 4800 loss:  0.505257837051893\n",
      "epoch: 5200 loss:  0.49927123912502996\n",
      "epoch: 5600 loss:  0.49470358117565966\n",
      "epoch: 6000 loss:  0.49121854687114624\n",
      "epoch: 6400 loss:  0.4885595333814625\n",
      "epoch: 6800 loss:  0.4865307577309147\n",
      "epoch: 7200 loss:  0.48498284131145236\n",
      "epoch: 7600 loss:  0.4838018111462904\n",
      "epoch: 8000 loss:  0.4829007080676718\n",
      "epoch: 8400 loss:  0.4822131839194765\n",
      "epoch: 8800 loss:  0.48168861634716703\n",
      "epoch: 9200 loss:  0.48128838147739383\n",
      "epoch: 9600 loss:  0.48098301004492605\n",
      "epoch: 10000 loss:  0.4807500175727305\n",
      "epoch: 10400 loss:  0.48057224884151284\n",
      "epoch: 10800 loss:  0.48043661475213223\n",
      "epoch: 11200 loss:  0.4803331285761554\n",
      "epoch: 11600 loss:  0.48025417063374365\n",
      "epoch: 12000 loss:  0.4801939272571666\n",
      "epoch: 12400 loss:  0.4801479627308559\n",
      "epoch: 12800 loss:  0.4801128926899822\n",
      "epoch: 13200 loss:  0.48008613492990904\n",
      "epoch: 13600 loss:  0.48006571927864927\n",
      "epoch: 14000 loss:  0.48005014253324096\n",
      "epoch: 14400 loss:  0.4800382577790188\n",
      "epoch: 14800 loss:  0.4800291899423673\n",
      "16.063585868930797\n"
     ]
    }
   ],
   "source": [
    "def update_w_and_b(spendings, sales, w, b, alpha):\n",
    "    dl_dw = 0.0\n",
    "    dl_db = 0.0\n",
    "    N = len(spendings)\n",
    "    for i in range(N):\n",
    "        dl_dw += -2 * spendings[i] * (sales[i] - (w * spendings[i] + b))\n",
    "        dl_db += -2 * (sales[i] - (w * spendings[i] + b))\n",
    "\n",
    "    w = w - (1 / float(N)) * dl_dw * alpha\n",
    "    b = b - (1 / float(N)) * dl_db * alpha\n",
    "    return w, b\n",
    "\n",
    "\n",
    "def train(spendings, sales, w, b, alpha, epochs):\n",
    "    for e in range(epochs):\n",
    "        w, b = update_w_and_b(spendings, sales, w, b, alpha)\n",
    "        # log the progress\n",
    "        if e % 400 == 0:\n",
    "            print(\"epoch:\", e, \"loss: \", avg_loss(spendings, sales, w, b))\n",
    "    return w, b\n",
    "\n",
    "\n",
    "def avg_loss(spendings, sales, w, b):\n",
    "    N = len(spendings)\n",
    "    total_error = 0.0\n",
    "    for i in range(N):\n",
    "        total_error += (sales[i] - (w * spendings[i] + b))**2\n",
    "    return total_error / float(N)\n",
    "    \n",
    "x = [1, 2, 3, 4, 5]  # Spendings\n",
    "y = [2, 4, 5, 4, 5]\n",
    "\n",
    "def predict(x, w, b):\n",
    "    return w * x + b\n",
    "\n",
    "\n",
    "w, b = train(x, y, 0.0, 0.0, 0.001, 15000)\n",
    "\n",
    "x_new = 23.0\n",
    "y_new = predict(x_new, w, b)\n",
    "print(y_new)\n"
   ]
  },
  {
   "cell_type": "code",
   "execution_count": null,
   "id": "28c15db5-4837-43c7-aaef-b0e5b9e379c0",
   "metadata": {},
   "outputs": [],
   "source": []
  },
  {
   "cell_type": "code",
   "execution_count": null,
   "id": "a0c86099-b05a-4fff-861a-3d98276cf65c",
   "metadata": {},
   "outputs": [],
   "source": []
  }
 ],
 "metadata": {
  "kernelspec": {
   "display_name": "Python 3 (ipykernel)",
   "language": "python",
   "name": "python3"
  },
  "language_info": {
   "codemirror_mode": {
    "name": "ipython",
    "version": 3
   },
   "file_extension": ".py",
   "mimetype": "text/x-python",
   "name": "python",
   "nbconvert_exporter": "python",
   "pygments_lexer": "ipython3",
   "version": "3.11.8"
  }
 },
 "nbformat": 4,
 "nbformat_minor": 5
}
