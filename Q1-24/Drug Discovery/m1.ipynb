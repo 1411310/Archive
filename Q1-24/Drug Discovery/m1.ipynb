{
 "cells": [
  {
   "cell_type": "markdown",
   "metadata": {
    "deletable": false,
    "editable": false,
    "nbgrader": {
     "cell_type": "markdown",
     "checksum": "a64a21cdeec5623ff702f9628561736f",
     "grade": false,
     "grade_id": "cell-17ea1a2802d4b9d6",
     "locked": true,
     "schema_version": 3,
     "solution": false,
     "task": false
    }
   },
   "source": [
    "## Gene Sequencing\n",
    "\n",
    "In this notebook, we will load in part of a genome sequence and search for patterns. Let's get started."
   ]
  },
  {
   "cell_type": "code",
   "execution_count": 11,
   "metadata": {
    "deletable": false,
    "editable": false,
    "nbgrader": {
     "cell_type": "code",
     "checksum": "082610db126d312b672fe331927547f4",
     "grade": false,
     "grade_id": "cell-dfd3408c25d0ae80",
     "locked": true,
     "schema_version": 3,
     "solution": false,
     "task": false
    }
   },
   "outputs": [],
   "source": [
    "### Importing packages and reading in data.\n",
    "### Genome sequencing data is stored in the dataframe pn.\n",
    "### Notice how each column has separate sequencing data.\n",
    "### Our goal will be to find similarities between the sequences and characterize it.\n",
    "\n",
    "import pandas as pd\n",
    "import numpy as np\n",
    "\n",
    "pn = pd.read_csv('SARS_CORONAVIRUS_NC_045512_sequence.fasta', header = None)[1:][0]\n",
    "pn = pd.DataFrame(pn)\n",
    "pn.columns = ['Genome Sequence']"
   ]
  },
  {
   "cell_type": "code",
   "execution_count": 12,
   "metadata": {
    "deletable": false,
    "nbgrader": {
     "cell_type": "code",
     "checksum": "f33c5664a3cd9979d7dfde76d156ab34",
     "grade": false,
     "grade_id": "cell-9c7feb2917185737",
     "locked": false,
     "schema_version": 3,
     "solution": true,
     "task": false
    }
   },
   "outputs": [],
   "source": [
    "## Part A (20 pts):\n",
    "\n",
    "## How many letters are in each sequence? Find the length of the sequence in each row and store the results in a new\n",
    "## column called ['Length']. Then, find the median length of these genome sequences and store it \n",
    "## in a variable called 'median_len'. Delete all rows that are not of this length.\n",
    "pn['Length'] = pn['Genome Sequence'].apply(len)\n",
    "pn['median_len'] = pn['Length'].median()\n",
    "pn = pn[pn['Length'] == pn['median_len']].reset_index(drop=True)"
   ]
  },
  {
   "cell_type": "code",
   "execution_count": null,
   "metadata": {
    "deletable": false,
    "editable": false,
    "nbgrader": {
     "cell_type": "code",
     "checksum": "08f4c7e7759144ba34eeeaedcaee8586",
     "grade": true,
     "grade_id": "cell-79f88ddb76010cc3",
     "locked": true,
     "points": 20,
     "schema_version": 3,
     "solution": false,
     "task": false
    }
   },
   "outputs": [],
   "source": []
  },
  {
   "cell_type": "code",
   "execution_count": null,
   "metadata": {
    "deletable": false,
    "nbgrader": {
     "cell_type": "code",
     "checksum": "6a904732a4600f399af0306f5c347339",
     "grade": false,
     "grade_id": "cell-086057e5e838c7a6",
     "locked": false,
     "schema_version": 3,
     "solution": true,
     "task": false
    }
   },
   "outputs": [],
   "source": [
    "## Part B (20 pts):\n",
    "\n",
    "## Create a new column titled 'Match?' with a 1/0 corresponding to whether or not the sequence\n",
    "## contains the substring 'TAATTTAGGCATGCCTT'.\n",
    "pn['Match?'] = np.where(pn['Genome Sequence'] == 'TAATTTAGGCATGCCTT', 1,0)"
   ]
  },
  {
   "cell_type": "code",
   "execution_count": null,
   "metadata": {
    "deletable": false,
    "editable": false,
    "nbgrader": {
     "cell_type": "code",
     "checksum": "465f741330bbd9d46c69f818bf36a707",
     "grade": true,
     "grade_id": "cell-3df193c7ae4df5ea",
     "locked": true,
     "points": 20,
     "schema_version": 3,
     "solution": false,
     "task": false
    }
   },
   "outputs": [],
   "source": []
  },
  {
   "cell_type": "code",
   "execution_count": null,
   "metadata": {
    "deletable": false,
    "nbgrader": {
     "cell_type": "code",
     "checksum": "19cfb31d3d9a71fe85fde6507c17a333",
     "grade": false,
     "grade_id": "cell-ade8dce5bc7b15f6",
     "locked": false,
     "schema_version": 3,
     "solution": true,
     "task": false
    }
   },
   "outputs": [],
   "source": [
    "## Part C (35 pts):\n",
    "\n",
    "## Create a matrix called 'differences' storing the number of differences in the sequences between the rows.\n",
    "differences = np.zeros((len(pn),len(pn)))\n",
    "for i in range(len(pn)):\n",
    "    for j in range(len(pn)):\n",
    "        differences[i, j] = sum(a != b for a, b in zip(pn.iloc[i]['Genome Sequence'], pn.iloc[j]['Genome Sequence']))"
   ]
  },
  {
   "cell_type": "code",
   "execution_count": null,
   "metadata": {
    "deletable": false,
    "editable": false,
    "nbgrader": {
     "cell_type": "code",
     "checksum": "e3d287303eaa5535bb749c3514a05d6e",
     "grade": true,
     "grade_id": "cell-5d1f4dcdf3e3f961",
     "locked": true,
     "points": 35,
     "schema_version": 3,
     "solution": false,
     "task": false
    }
   },
   "outputs": [],
   "source": []
  },
  {
   "cell_type": "code",
   "execution_count": null,
   "metadata": {
    "deletable": false,
    "nbgrader": {
     "cell_type": "code",
     "checksum": "ae16ead5d352bb0c566784f139aa3505",
     "grade": false,
     "grade_id": "cell-d1b38cfe01a75319",
     "locked": false,
     "schema_version": 3,
     "solution": true,
     "task": false
    }
   },
   "outputs": [],
   "source": [
    "## Part D (25 pts):\n",
    "\n",
    "## Find the two genome sequences that are most similar. Store them in a tuple called 'similar' with the format (row1, row2).\n",
    "\n",
    "maxi = 300\n",
    "similar = 0\n",
    "for i in range(len(differences)):\n",
    "    for j in range(len(differences)):\n",
    "        if differences[i][j] < 0 and differences[i][j] != 0:\n",
    "            maxi = differences[i][j]\n",
    "            similar = (i,j)\n"
   ]
  },
  {
   "cell_type": "code",
   "execution_count": null,
   "metadata": {
    "deletable": false,
    "editable": false,
    "nbgrader": {
     "cell_type": "code",
     "checksum": "986123245adfe0711879974059c3d1b7",
     "grade": true,
     "grade_id": "cell-99846ef739a2e76f",
     "locked": true,
     "points": 25,
     "schema_version": 3,
     "solution": false,
     "task": false
    }
   },
   "outputs": [],
   "source": []
  },
  {
   "cell_type": "code",
   "execution_count": null,
   "metadata": {},
   "outputs": [],
   "source": []
  }
 ],
 "metadata": {
  "kernelspec": {
   "display_name": "Python 3",
   "language": "python",
   "name": "python3"
  },
  "language_info": {
   "codemirror_mode": {
    "name": "ipython",
    "version": 3
   },
   "file_extension": ".py",
   "mimetype": "text/x-python",
   "name": "python",
   "nbconvert_exporter": "python",
   "pygments_lexer": "ipython3",
   "version": "3.7.6"
  }
 },
 "nbformat": 4,
 "nbformat_minor": 4
}
