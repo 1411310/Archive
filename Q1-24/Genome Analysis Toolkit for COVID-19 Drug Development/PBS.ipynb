{
 "cells": [
  {
   "cell_type": "markdown",
   "metadata": {
    "deletable": false,
    "editable": false,
    "nbgrader": {
     "cell_type": "markdown",
     "checksum": "31849577e1aa37c5e204f65ccb2be5b2",
     "grade": false,
     "grade_id": "cell-2515f8fe687c2a1c",
     "locked": true,
     "schema_version": 3,
     "solution": false,
     "task": false
    }
   },
   "source": [
    "## Predicting bit scores"
   ]
  },
  {
   "cell_type": "code",
   "execution_count": 1,
   "metadata": {
    "deletable": false,
    "editable": false,
    "nbgrader": {
     "cell_type": "code",
     "checksum": "b17c3fd4330090e434035b9198eaf23b",
     "grade": false,
     "grade_id": "cell-31ee5aae20bda0db",
     "locked": true,
     "schema_version": 3,
     "solution": false,
     "task": false
    }
   },
   "outputs": [],
   "source": [
    "import pandas as pd\n",
    "import numpy as np\n",
    "import seaborn as sns\n",
    "import matplotlib.pyplot as plt"
   ]
  },
  {
   "cell_type": "code",
   "execution_count": 2,
   "metadata": {
    "deletable": false,
    "editable": false,
    "nbgrader": {
     "cell_type": "code",
     "checksum": "380bf802a1d9ac9b1eb68dcb8dd1709a",
     "grade": false,
     "grade_id": "cell-302b22375cb8e1ae",
     "locked": true,
     "schema_version": 3,
     "solution": false,
     "task": false
    }
   },
   "outputs": [
    {
     "data": {
      "text/html": [
       "<div>\n",
       "<style scoped>\n",
       "    .dataframe tbody tr th:only-of-type {\n",
       "        vertical-align: middle;\n",
       "    }\n",
       "\n",
       "    .dataframe tbody tr th {\n",
       "        vertical-align: top;\n",
       "    }\n",
       "\n",
       "    .dataframe thead th {\n",
       "        text-align: right;\n",
       "    }\n",
       "</style>\n",
       "<table border=\"1\" class=\"dataframe\">\n",
       "  <thead>\n",
       "    <tr style=\"text-align: right;\">\n",
       "      <th></th>\n",
       "      <th>query acc.verr</th>\n",
       "      <th>subject acc.ver</th>\n",
       "      <th>% identity</th>\n",
       "      <th>alignment length</th>\n",
       "      <th>mismatches</th>\n",
       "      <th>gap opens</th>\n",
       "      <th>q. start</th>\n",
       "      <th>q. end</th>\n",
       "      <th>s. start</th>\n",
       "      <th>s. end</th>\n",
       "      <th>evalue</th>\n",
       "      <th>bit score</th>\n",
       "    </tr>\n",
       "  </thead>\n",
       "  <tbody>\n",
       "    <tr>\n",
       "      <th>0</th>\n",
       "      <td>MN997409.1</td>\n",
       "      <td>MN997409.1</td>\n",
       "      <td>100.00</td>\n",
       "      <td>29882</td>\n",
       "      <td>0</td>\n",
       "      <td>0</td>\n",
       "      <td>1</td>\n",
       "      <td>29882</td>\n",
       "      <td>1</td>\n",
       "      <td>29882</td>\n",
       "      <td>0.0</td>\n",
       "      <td>55182</td>\n",
       "    </tr>\n",
       "    <tr>\n",
       "      <th>1</th>\n",
       "      <td>MN997409.1</td>\n",
       "      <td>MT020881.1</td>\n",
       "      <td>99.99</td>\n",
       "      <td>29882</td>\n",
       "      <td>3</td>\n",
       "      <td>0</td>\n",
       "      <td>1</td>\n",
       "      <td>29882</td>\n",
       "      <td>1</td>\n",
       "      <td>29882</td>\n",
       "      <td>0.0</td>\n",
       "      <td>55166</td>\n",
       "    </tr>\n",
       "    <tr>\n",
       "      <th>2</th>\n",
       "      <td>MN997409.1</td>\n",
       "      <td>MT020880.1</td>\n",
       "      <td>99.99</td>\n",
       "      <td>29882</td>\n",
       "      <td>3</td>\n",
       "      <td>0</td>\n",
       "      <td>1</td>\n",
       "      <td>29882</td>\n",
       "      <td>1</td>\n",
       "      <td>29882</td>\n",
       "      <td>0.0</td>\n",
       "      <td>55166</td>\n",
       "    </tr>\n",
       "    <tr>\n",
       "      <th>3</th>\n",
       "      <td>MN997409.1</td>\n",
       "      <td>MN985325.1</td>\n",
       "      <td>99.99</td>\n",
       "      <td>29882</td>\n",
       "      <td>3</td>\n",
       "      <td>0</td>\n",
       "      <td>1</td>\n",
       "      <td>29882</td>\n",
       "      <td>1</td>\n",
       "      <td>29882</td>\n",
       "      <td>0.0</td>\n",
       "      <td>55166</td>\n",
       "    </tr>\n",
       "    <tr>\n",
       "      <th>4</th>\n",
       "      <td>MN997409.1</td>\n",
       "      <td>MN975262.1</td>\n",
       "      <td>99.99</td>\n",
       "      <td>29882</td>\n",
       "      <td>3</td>\n",
       "      <td>0</td>\n",
       "      <td>1</td>\n",
       "      <td>29882</td>\n",
       "      <td>1</td>\n",
       "      <td>29882</td>\n",
       "      <td>0.0</td>\n",
       "      <td>55166</td>\n",
       "    </tr>\n",
       "  </tbody>\n",
       "</table>\n",
       "</div>"
      ],
      "text/plain": [
       "  query acc.verr subject acc.ver  % identity  alignment length  mismatches  \\\n",
       "0     MN997409.1      MN997409.1      100.00             29882           0   \n",
       "1     MN997409.1      MT020881.1       99.99             29882           3   \n",
       "2     MN997409.1      MT020880.1       99.99             29882           3   \n",
       "3     MN997409.1      MN985325.1       99.99             29882           3   \n",
       "4     MN997409.1      MN975262.1       99.99             29882           3   \n",
       "\n",
       "   gap opens  q. start  q. end  s. start  s. end  evalue  bit score  \n",
       "0          0         1   29882         1   29882     0.0      55182  \n",
       "1          0         1   29882         1   29882     0.0      55166  \n",
       "2          0         1   29882         1   29882     0.0      55166  \n",
       "3          0         1   29882         1   29882     0.0      55166  \n",
       "4          0         1   29882         1   29882     0.0      55166  "
      ]
     },
     "execution_count": 2,
     "metadata": {},
     "output_type": "execute_result"
    }
   ],
   "source": [
    "df = pd.read_csv('Alignment-HitTable.csv', header = None)\n",
    "df.columns = ['query acc.verr', 'subject acc.ver', '% identity', 'alignment length', 'mismatches', \n",
    "             'gap opens', 'q. start', 'q. end', 's. start', 's. end', 'evalue', 'bit score']\n",
    "df.head()"
   ]
  },
  {
   "cell_type": "code",
   "execution_count": 4,
   "metadata": {
    "deletable": false,
    "nbgrader": {
     "cell_type": "code",
     "checksum": "9b3bbc56e58d3d41b5bfa656ef4bc710",
     "grade": false,
     "grade_id": "cell-59bbd3ee0ebd0c19",
     "locked": false,
     "schema_version": 3,
     "solution": true,
     "task": false
    }
   },
   "outputs": [],
   "source": [
    "X =  df[['% identity',  'mismatches', 'gap opens', 'q. start', 's. start']]\n",
    "y = df[['bit score']]"
   ]
  },
  {
   "cell_type": "code",
   "execution_count": 5,
   "metadata": {
    "deletable": false,
    "nbgrader": {
     "cell_type": "code",
     "checksum": "64f9ae21a00d5f56602d10178abce7b2",
     "grade": false,
     "grade_id": "cell-29637a39a0ea7178",
     "locked": false,
     "schema_version": 3,
     "solution": true,
     "task": false
    }
   },
   "outputs": [],
   "source": [
    "from sklearn.preprocessing import StandardScaler\n",
    "scaler = StandardScaler()\n",
    "X_transformed = scaler.fit_transform(X)"
   ]
  },
  {
   "cell_type": "code",
   "execution_count": 13,
   "metadata": {
    "deletable": false,
    "nbgrader": {
     "cell_type": "code",
     "checksum": "50f8d80c82c40d49a0de09e6c37ead30",
     "grade": false,
     "grade_id": "cell-afa745146ba1401b",
     "locked": false,
     "schema_version": 3,
     "solution": true,
     "task": false
    }
   },
   "outputs": [],
   "source": [
    "from sklearn.linear_model import LinearRegression\n",
    "lr = LinearRegression().fit(X_transformed, y)\n",
    "lin_pred = lr.predict(X_transformed)\n",
    "lin_score = lr.score(X_transformed, y)\n",
    "coef = lr.coef_"
   ]
  },
  {
   "cell_type": "code",
   "execution_count": 17,
   "metadata": {
    "deletable": false,
    "nbgrader": {
     "cell_type": "code",
     "checksum": "1fe771adc501e89a8b17639db89acf14",
     "grade": false,
     "grade_id": "cell-1d7f6b2bc4f02581",
     "locked": false,
     "schema_version": 3,
     "solution": true,
     "task": false
    }
   },
   "outputs": [
    {
     "data": {
      "text/plain": [
       "array([7.66173267e+25, 7.66173267e+25, 7.66173267e+25, 7.66173267e+25,\n",
       "       7.66173267e+25, 7.66173267e+25, 7.66173267e+25, 7.66173267e+25,\n",
       "       7.66173267e+25, 7.66173267e+25, 7.66173267e+25, 7.66173267e+25,\n",
       "       7.66173267e+25, 7.66173267e+25, 7.66173267e+25, 7.66173267e+25,\n",
       "       7.66173267e+25, 7.66173267e+25, 7.66173267e+25, 7.66173267e+25,\n",
       "       7.66173267e+25, 7.66173267e+25, 7.66173267e+25, 7.66173267e+25,\n",
       "       7.66173267e+25, 7.66173267e+25, 7.66173267e+25, 7.66173267e+25,\n",
       "       7.66173267e+25, 7.66173267e+25, 7.66173267e+25, 7.66173267e+25,\n",
       "       7.66173267e+25, 7.66173267e+25, 7.66173267e+25, 7.66173267e+25,\n",
       "       7.66173267e+25, 7.66173267e+25, 7.66173267e+25, 7.66173267e+25,\n",
       "       7.66173267e+25, 7.66173267e+25, 7.66173267e+25, 7.66173267e+25,\n",
       "       7.66173267e+25, 7.66173267e+25, 7.66173267e+25, 7.66173267e+25,\n",
       "       7.66173267e+25, 7.66173267e+25, 7.66173267e+25, 7.66173267e+25,\n",
       "       7.66173267e+25, 7.66173267e+25, 7.66173267e+25, 7.66173267e+25,\n",
       "       7.66173267e+25, 7.66173267e+25, 7.66173267e+25, 7.66173267e+25,\n",
       "       7.66173267e+25, 7.66173267e+25, 7.66173267e+25, 7.66173267e+25,\n",
       "       7.66173267e+25, 7.66173267e+25])"
      ]
     },
     "execution_count": 17,
     "metadata": {},
     "output_type": "execute_result"
    }
   ],
   "source": [
    "from sklearn.neural_network import MLPRegressor\n",
    "from sklearn.model_selection import train_test_split\n",
    "\n",
    "\n",
    "\n",
    "X_train, X_test, y_train, y_test = train_test_split(X_transformed, y, random_state=42)\n",
    "\n",
    "model = MLPRegressor(random_state=42, solver='sgd', hidden_layer_sizes=(50, 3))\n",
    "model.fit(X_train, y_train)\n",
    "nn_pred = model.predict(X_test)\n",
    "\n",
    "nn_score = model.score(X_test, y_test)\n",
    "\n",
    "\n",
    "nn_pred"
   ]
  }
 ],
 "metadata": {
  "kernelspec": {
   "display_name": "Python 3",
   "language": "python",
   "name": "python3"
  },
  "language_info": {
   "codemirror_mode": {
    "name": "ipython",
    "version": 3
   },
   "file_extension": ".py",
   "mimetype": "text/x-python",
   "name": "python",
   "nbconvert_exporter": "python",
   "pygments_lexer": "ipython3",
   "version": "3.7.6"
  }
 },
 "nbformat": 4,
 "nbformat_minor": 4
}
