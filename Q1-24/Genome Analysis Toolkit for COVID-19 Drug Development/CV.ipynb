{
 "cells": [
  {
   "cell_type": "markdown",
   "metadata": {
    "deletable": false,
    "editable": false,
    "nbgrader": {
     "cell_type": "markdown",
     "checksum": "cdf84cbd20776e23e3701e00f0615c66",
     "grade": false,
     "grade_id": "cell-6061df4eed7b7b5d",
     "locked": true,
     "schema_version": 3,
     "solution": false,
     "task": false
    }
   },
   "source": [
    "## Clustering and Visualization"
   ]
  },
  {
   "cell_type": "code",
   "execution_count": 3,
   "metadata": {
    "deletable": false,
    "editable": false,
    "nbgrader": {
     "cell_type": "code",
     "checksum": "61178518814d5500c4d4d03776273069",
     "grade": false,
     "grade_id": "cell-d5bd0946c027fd6c",
     "locked": true,
     "schema_version": 3,
     "solution": false,
     "task": false
    }
   },
   "outputs": [],
   "source": [
    "import pandas as pd\n",
    "import numpy as np\n",
    "from sklearn.decomposition import PCA\n",
    "import matplotlib.pyplot as plt\n",
    "from sklearn.cluster import KMeans\n",
    "import seaborn as sns"
   ]
  },
  {
   "cell_type": "code",
   "execution_count": 4,
   "metadata": {
    "deletable": false,
    "editable": false,
    "nbgrader": {
     "cell_type": "code",
     "checksum": "69313e899db1a0892ade0f0e4b96cd4f",
     "grade": false,
     "grade_id": "cell-b1536e8c6be2d835",
     "locked": true,
     "schema_version": 3,
     "solution": false,
     "task": false
    }
   },
   "outputs": [
    {
     "data": {
      "text/html": [
       "<div>\n",
       "<style scoped>\n",
       "    .dataframe tbody tr th:only-of-type {\n",
       "        vertical-align: middle;\n",
       "    }\n",
       "\n",
       "    .dataframe tbody tr th {\n",
       "        vertical-align: top;\n",
       "    }\n",
       "\n",
       "    .dataframe thead th {\n",
       "        text-align: right;\n",
       "    }\n",
       "</style>\n",
       "<table border=\"1\" class=\"dataframe\">\n",
       "  <thead>\n",
       "    <tr style=\"text-align: right;\">\n",
       "      <th></th>\n",
       "      <th>query acc.verr</th>\n",
       "      <th>subject acc.ver</th>\n",
       "      <th>% identity</th>\n",
       "      <th>alignment length</th>\n",
       "      <th>mismatches</th>\n",
       "      <th>gap opens</th>\n",
       "      <th>q. start</th>\n",
       "      <th>q. end</th>\n",
       "      <th>s. start</th>\n",
       "      <th>s. end</th>\n",
       "      <th>evalue</th>\n",
       "      <th>bit score</th>\n",
       "    </tr>\n",
       "  </thead>\n",
       "  <tbody>\n",
       "    <tr>\n",
       "      <th>0</th>\n",
       "      <td>MN997409.1</td>\n",
       "      <td>MN997409.1</td>\n",
       "      <td>100.00</td>\n",
       "      <td>29882</td>\n",
       "      <td>0</td>\n",
       "      <td>0</td>\n",
       "      <td>1</td>\n",
       "      <td>29882</td>\n",
       "      <td>1</td>\n",
       "      <td>29882</td>\n",
       "      <td>0.0</td>\n",
       "      <td>55182</td>\n",
       "    </tr>\n",
       "    <tr>\n",
       "      <th>1</th>\n",
       "      <td>MN997409.1</td>\n",
       "      <td>MT020881.1</td>\n",
       "      <td>99.99</td>\n",
       "      <td>29882</td>\n",
       "      <td>3</td>\n",
       "      <td>0</td>\n",
       "      <td>1</td>\n",
       "      <td>29882</td>\n",
       "      <td>1</td>\n",
       "      <td>29882</td>\n",
       "      <td>0.0</td>\n",
       "      <td>55166</td>\n",
       "    </tr>\n",
       "    <tr>\n",
       "      <th>2</th>\n",
       "      <td>MN997409.1</td>\n",
       "      <td>MT020880.1</td>\n",
       "      <td>99.99</td>\n",
       "      <td>29882</td>\n",
       "      <td>3</td>\n",
       "      <td>0</td>\n",
       "      <td>1</td>\n",
       "      <td>29882</td>\n",
       "      <td>1</td>\n",
       "      <td>29882</td>\n",
       "      <td>0.0</td>\n",
       "      <td>55166</td>\n",
       "    </tr>\n",
       "    <tr>\n",
       "      <th>3</th>\n",
       "      <td>MN997409.1</td>\n",
       "      <td>MN985325.1</td>\n",
       "      <td>99.99</td>\n",
       "      <td>29882</td>\n",
       "      <td>3</td>\n",
       "      <td>0</td>\n",
       "      <td>1</td>\n",
       "      <td>29882</td>\n",
       "      <td>1</td>\n",
       "      <td>29882</td>\n",
       "      <td>0.0</td>\n",
       "      <td>55166</td>\n",
       "    </tr>\n",
       "    <tr>\n",
       "      <th>4</th>\n",
       "      <td>MN997409.1</td>\n",
       "      <td>MN975262.1</td>\n",
       "      <td>99.99</td>\n",
       "      <td>29882</td>\n",
       "      <td>3</td>\n",
       "      <td>0</td>\n",
       "      <td>1</td>\n",
       "      <td>29882</td>\n",
       "      <td>1</td>\n",
       "      <td>29882</td>\n",
       "      <td>0.0</td>\n",
       "      <td>55166</td>\n",
       "    </tr>\n",
       "  </tbody>\n",
       "</table>\n",
       "</div>"
      ],
      "text/plain": [
       "  query acc.verr subject acc.ver  % identity  alignment length  mismatches  \\\n",
       "0     MN997409.1      MN997409.1      100.00             29882           0   \n",
       "1     MN997409.1      MT020881.1       99.99             29882           3   \n",
       "2     MN997409.1      MT020880.1       99.99             29882           3   \n",
       "3     MN997409.1      MN985325.1       99.99             29882           3   \n",
       "4     MN997409.1      MN975262.1       99.99             29882           3   \n",
       "\n",
       "   gap opens  q. start  q. end  s. start  s. end  evalue  bit score  \n",
       "0          0         1   29882         1   29882     0.0      55182  \n",
       "1          0         1   29882         1   29882     0.0      55166  \n",
       "2          0         1   29882         1   29882     0.0      55166  \n",
       "3          0         1   29882         1   29882     0.0      55166  \n",
       "4          0         1   29882         1   29882     0.0      55166  "
      ]
     },
     "execution_count": 4,
     "metadata": {},
     "output_type": "execute_result"
    }
   ],
   "source": [
    "df = pd.read_csv('Alignment-HitTable.csv', header = None)\n",
    "df.columns = ['query acc.verr', 'subject acc.ver', '% identity', 'alignment length', 'mismatches', \n",
    "             'gap opens', 'q. start', 'q. end', 's. start', 's. end', 'evalue', 'bit score']\n",
    "df.head()"
   ]
  },
  {
   "cell_type": "code",
   "execution_count": 7,
   "metadata": {
    "deletable": false,
    "nbgrader": {
     "cell_type": "code",
     "checksum": "50598fe6f77853ead71ce33679ca8c85",
     "grade": false,
     "grade_id": "cell-a71216f728070c24",
     "locked": false,
     "schema_version": 3,
     "solution": true,
     "task": false
    }
   },
   "outputs": [
    {
     "data": {
      "text/html": [
       "<div>\n",
       "<style scoped>\n",
       "    .dataframe tbody tr th:only-of-type {\n",
       "        vertical-align: middle;\n",
       "    }\n",
       "\n",
       "    .dataframe tbody tr th {\n",
       "        vertical-align: top;\n",
       "    }\n",
       "\n",
       "    .dataframe thead th {\n",
       "        text-align: right;\n",
       "    }\n",
       "</style>\n",
       "<table border=\"1\" class=\"dataframe\">\n",
       "  <thead>\n",
       "    <tr style=\"text-align: right;\">\n",
       "      <th></th>\n",
       "      <th>% identity</th>\n",
       "      <th>alignment length</th>\n",
       "      <th>mismatches</th>\n",
       "      <th>gap opens</th>\n",
       "      <th>q. start</th>\n",
       "      <th>q. end</th>\n",
       "      <th>s. start</th>\n",
       "      <th>s. end</th>\n",
       "      <th>evalue</th>\n",
       "      <th>bit score</th>\n",
       "    </tr>\n",
       "  </thead>\n",
       "  <tbody>\n",
       "    <tr>\n",
       "      <th>count</th>\n",
       "      <td>263.000000</td>\n",
       "      <td>263.000000</td>\n",
       "      <td>263.000000</td>\n",
       "      <td>263.000000</td>\n",
       "      <td>263.000000</td>\n",
       "      <td>263.000000</td>\n",
       "      <td>263.000000</td>\n",
       "      <td>263.000000</td>\n",
       "      <td>263.0</td>\n",
       "      <td>263.00000</td>\n",
       "    </tr>\n",
       "    <tr>\n",
       "      <th>mean</th>\n",
       "      <td>86.064958</td>\n",
       "      <td>10711.114068</td>\n",
       "      <td>919.235741</td>\n",
       "      <td>57.821293</td>\n",
       "      <td>11295.684411</td>\n",
       "      <td>21970.517110</td>\n",
       "      <td>11212.646388</td>\n",
       "      <td>21888.836502</td>\n",
       "      <td>0.0</td>\n",
       "      <td>14240.34981</td>\n",
       "    </tr>\n",
       "    <tr>\n",
       "      <th>std</th>\n",
       "      <td>7.609654</td>\n",
       "      <td>10530.955700</td>\n",
       "      <td>1085.784789</td>\n",
       "      <td>60.654780</td>\n",
       "      <td>12022.056513</td>\n",
       "      <td>10652.170843</td>\n",
       "      <td>11963.759492</td>\n",
       "      <td>10619.703758</td>\n",
       "      <td>0.0</td>\n",
       "      <td>19226.72192</td>\n",
       "    </tr>\n",
       "    <tr>\n",
       "      <th>min</th>\n",
       "      <td>77.559000</td>\n",
       "      <td>1603.000000</td>\n",
       "      <td>0.000000</td>\n",
       "      <td>0.000000</td>\n",
       "      <td>1.000000</td>\n",
       "      <td>1923.000000</td>\n",
       "      <td>1.000000</td>\n",
       "      <td>1672.000000</td>\n",
       "      <td>0.0</td>\n",
       "      <td>1011.00000</td>\n",
       "    </tr>\n",
       "    <tr>\n",
       "      <th>25%</th>\n",
       "      <td>80.048000</td>\n",
       "      <td>1925.000000</td>\n",
       "      <td>142.000000</td>\n",
       "      <td>12.000000</td>\n",
       "      <td>16.000000</td>\n",
       "      <td>21577.000000</td>\n",
       "      <td>1.000000</td>\n",
       "      <td>21489.000000</td>\n",
       "      <td>0.0</td>\n",
       "      <td>2101.00000</td>\n",
       "    </tr>\n",
       "  </tbody>\n",
       "</table>\n",
       "</div>"
      ],
      "text/plain": [
       "       % identity  alignment length   mismatches   gap opens      q. start  \\\n",
       "count  263.000000        263.000000   263.000000  263.000000    263.000000   \n",
       "mean    86.064958      10711.114068   919.235741   57.821293  11295.684411   \n",
       "std      7.609654      10530.955700  1085.784789   60.654780  12022.056513   \n",
       "min     77.559000       1603.000000     0.000000    0.000000      1.000000   \n",
       "25%     80.048000       1925.000000   142.000000   12.000000     16.000000   \n",
       "\n",
       "             q. end      s. start        s. end  evalue    bit score  \n",
       "count    263.000000    263.000000    263.000000   263.0    263.00000  \n",
       "mean   21970.517110  11212.646388  21888.836502     0.0  14240.34981  \n",
       "std    10652.170843  11963.759492  10619.703758     0.0  19226.72192  \n",
       "min     1923.000000      1.000000   1672.000000     0.0   1011.00000  \n",
       "25%    21577.000000      1.000000  21489.000000     0.0   2101.00000  "
      ]
     },
     "execution_count": 7,
     "metadata": {},
     "output_type": "execute_result"
    }
   ],
   "source": [
    "results = pd.DataFrame(df.describe())\n",
    "results.head()"
   ]
  },
  {
   "cell_type": "code",
   "execution_count": 9,
   "metadata": {
    "deletable": false,
    "nbgrader": {
     "cell_type": "code",
     "checksum": "46d668910e8c6075d844dc3f7807fd10",
     "grade": false,
     "grade_id": "cell-42a6141d6f3a1f18",
     "locked": false,
     "schema_version": 3,
     "solution": true,
     "task": false
    }
   },
   "outputs": [
    {
     "name": "stdout",
     "output_type": "stream",
     "text": [
      "                  % identity  alignment length  mismatches  gap opens  \\\n",
      "% identity          1.000000          0.631524   -0.453509  -0.535183   \n",
      "alignment length    0.631524          1.000000    0.206680   0.136702   \n",
      "mismatches         -0.453509          0.206680    1.000000   0.988180   \n",
      "gap opens          -0.535183          0.136702    0.988180   1.000000   \n",
      "q. start           -0.052519         -0.560720   -0.197306  -0.183211   \n",
      "q. end              0.566794          0.355570   -0.021370  -0.074695   \n",
      "s. start           -0.051870         -0.560761   -0.198956  -0.184782   \n",
      "s. end              0.569653          0.359521   -0.022302  -0.075782   \n",
      "evalue                   NaN               NaN         NaN        NaN   \n",
      "bit score           0.793438          0.944639   -0.125766  -0.193226   \n",
      "\n",
      "                  q. start    q. end  s. start    s. end  evalue  bit score  \n",
      "% identity       -0.052519  0.566794 -0.051870  0.569653     NaN   0.793438  \n",
      "alignment length -0.560720  0.355570 -0.560761  0.359521     NaN   0.944639  \n",
      "mismatches       -0.197306 -0.021370 -0.198956 -0.022302     NaN  -0.125766  \n",
      "gap opens        -0.183211 -0.074695 -0.184782 -0.075782     NaN  -0.193226  \n",
      "q. start          1.000000  0.574516  0.999987  0.571028     NaN  -0.502689  \n",
      "q. end            0.574516  1.000000  0.574465  0.999974     NaN   0.367343  \n",
      "s. start          0.999987  0.574465  1.000000  0.571007     NaN  -0.502181  \n",
      "s. end            0.571028  0.999974  0.571007  1.000000     NaN   0.371660  \n",
      "evalue                 NaN       NaN       NaN       NaN     NaN        NaN  \n",
      "bit score        -0.502689  0.367343 -0.502181  0.371660     NaN   1.000000  \n"
     ]
    }
   ],
   "source": [
    "corr = pd.DataFrame(df.corr())\n",
    "print(corr)"
   ]
  },
  {
   "cell_type": "code",
   "execution_count": 10,
   "metadata": {
    "deletable": false,
    "editable": false,
    "nbgrader": {
     "cell_type": "code",
     "checksum": "d9487c7eda94514bb2eb085c9cd930a2",
     "grade": true,
     "grade_id": "cell-6cc9f012564f32d6",
     "locked": true,
     "points": 10,
     "schema_version": 3,
     "solution": false,
     "task": false
    }
   },
   "outputs": [
    {
     "data": {
      "image/png": "[encoded data removed]",
      "text/plain": [
       "<Figure size 720x720 with 2 Axes>"
      ]
     },
     "metadata": {
      "needs_background": "light"
     },
     "output_type": "display_data"
    }
   ],
   "source": [
    "fig, ax = plt.subplots(figsize = (10,10))\n",
    "sns.heatmap(corr, annot = True, cmap = 'YlGnBu')\n",
    "plt.show()"
   ]
  },
  {
   "cell_type": "code",
   "execution_count": 13,
   "metadata": {
    "deletable": false,
    "nbgrader": {
     "cell_type": "code",
     "checksum": "68f338b410dbf8413e45860f2d317cfa",
     "grade": false,
     "grade_id": "cell-f54c3bf7e60af80f",
     "locked": false,
     "schema_version": 3,
     "solution": true,
     "task": false
    }
   },
   "outputs": [
    {
     "data": {
      "text/plain": [
       "PCA(copy=True, iterated_power='auto', n_components=2, random_state=None,\n",
       "    svd_solver='auto', tol=0.0, whiten=False)"
      ]
     },
     "execution_count": 13,
     "metadata": {},
     "output_type": "execute_result"
    }
   ],
   "source": [
    "df_numeric = df[['% identity', 'alignment length', 'mismatches', 'gap opens', 'q. start', 'q. end', 's. start', 's. end', 'evalue', 'bit score']]\n",
    "pca = PCA(n_components=2)\n",
    "pca.fit(df_numeric)\n",
    "\n"
   ]
  },
  {
   "cell_type": "code",
   "execution_count": 14,
   "metadata": {
    "deletable": false,
    "nbgrader": {
     "cell_type": "code",
     "checksum": "123429fb79d21d6a321c94649813d2e0",
     "grade": false,
     "grade_id": "cell-98ccd8e24d5e04ad",
     "locked": false,
     "schema_version": 3,
     "solution": true,
     "task": false
    }
   },
   "outputs": [],
   "source": [
    "components = pd.DataFrame(pca.components_)\n",
    "components.columns = ['% identity', 'alignment length', 'mismatches', 'gap opens', 'q. start', 'q. end', 's. start', 's. end', 'evalue', 'bit score']\n",
    "components.index =['Component 1', 'Component 2']"
   ]
  },
  {
   "cell_type": "code",
   "execution_count": 15,
   "metadata": {
    "deletable": false,
    "editable": false,
    "nbgrader": {
     "cell_type": "code",
     "checksum": "4d106907f2f249fe5d37d20632745b40",
     "grade": true,
     "grade_id": "cell-6e992f4242c6a129",
     "locked": true,
     "points": 25,
     "schema_version": 3,
     "solution": false,
     "task": false
    }
   },
   "outputs": [
    {
     "data": {
      "image/png": "[encoded data removed]",
      "text/plain": [
       "<Figure size 720x216 with 2 Axes>"
      ]
     },
     "metadata": {
      "needs_background": "light"
     },
     "output_type": "display_data"
    }
   ],
   "source": [
    "fig, ax = plt.subplots(figsize = (10,3))\n",
    "sns.heatmap(components, annot = True, cmap = 'YlGnBu')\n",
    "plt.show()"
   ]
  },
  {
   "cell_type": "code",
   "execution_count": 16,
   "metadata": {
    "deletable": false,
    "nbgrader": {
     "cell_type": "code",
     "checksum": "732ec2e62c0374ca764d447339ed9974",
     "grade": false,
     "grade_id": "cell-25421dbfc221bab3",
     "locked": false,
     "schema_version": 3,
     "solution": true,
     "task": false
    }
   },
   "outputs": [],
   "source": [
    "kmeans = KMeans(n_clusters = 2, random_state=0).fit(df_numeric)\n",
    "y_pred = kmeans.predict(df_numeric)"
   ]
  },
  {
   "cell_type": "code",
   "execution_count": 17,
   "metadata": {
    "deletable": false,
    "editable": false,
    "nbgrader": {
     "cell_type": "code",
     "checksum": "b0da8651562a515957d5abe6fc86080f",
     "grade": true,
     "grade_id": "cell-fd1553be6cf70da9",
     "locked": true,
     "points": 25,
     "schema_version": 3,
     "solution": false,
     "task": false
    }
   },
   "outputs": [
    {
     "data": {
      "text/plain": [
       "<matplotlib.axes._subplots.AxesSubplot at 0x7fe49b3e5550>"
      ]
     },
     "execution_count": 17,
     "metadata": {},
     "output_type": "execute_result"
    },
    {
     "data": {
      "image/png": "[encoded data removed]",
      "text/plain": [
       "<Figure size 432x288 with 1 Axes>"
      ]
     },
     "metadata": {
      "needs_background": "light"
     },
     "output_type": "display_data"
    }
   ],
   "source": [
    "sns.scatterplot(x= pca.transform(df_numeric)[:, 0], y = pca.transform(df_numeric)[:, 1], hue = y_pred)"
   ]
  }
 ],
 "metadata": {
  "kernelspec": {
   "display_name": "Python 3",
   "language": "python",
   "name": "python3"
  },
  "language_info": {
   "codemirror_mode": {
    "name": "ipython",
    "version": 3
   },
   "file_extension": ".py",
   "mimetype": "text/x-python",
   "name": "python",
   "nbconvert_exporter": "python",
   "pygments_lexer": "ipython3",
   "version": "3.7.6"
  }
 },
 "nbformat": 4,
 "nbformat_minor": 4
}
