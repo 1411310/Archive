{
 "cells": [
  {
   "cell_type": "markdown",
   "metadata": {
    "deletable": false,
    "editable": false,
    "nbgrader": {
     "cell_type": "markdown",
     "checksum": "a64a21cdeec5623ff702f9628561736f",
     "grade": false,
     "grade_id": "cell-17ea1a2802d4b9d6",
     "locked": true,
     "schema_version": 3,
     "solution": false,
     "task": false
    }
   },
   "source": [
    "## Gene Sequencing"
   ]
  },
  {
   "cell_type": "code",
   "execution_count": 11,
   "metadata": {
    "deletable": false,
    "editable": false,
    "nbgrader": {
     "cell_type": "code",
     "checksum": "082610db126d312b672fe331927547f4",
     "grade": false,
     "grade_id": "cell-dfd3408c25d0ae80",
     "locked": true,
     "schema_version": 3,
     "solution": false,
     "task": false
    }
   },
   "outputs": [],
   "source": [
    "import pandas as pd\n",
    "import numpy as np\n",
    "\n",
    "pn = pd.read_csv('SARS_CORONAVIRUS_NC_045512_sequence.fasta', header = None)[1:][0]\n",
    "pn = pd.DataFrame(pn)\n",
    "pn.columns = ['Genome Sequence']"
   ]
  },
  {
   "cell_type": "code",
   "execution_count": 12,
   "metadata": {
    "deletable": false,
    "nbgrader": {
     "cell_type": "code",
     "checksum": "f33c5664a3cd9979d7dfde76d156ab34",
     "grade": false,
     "grade_id": "cell-9c7feb2917185737",
     "locked": false,
     "schema_version": 3,
     "solution": true,
     "task": false
    }
   },
   "outputs": [],
   "source": [
    "pn['Length'] = pn['Genome Sequence'].apply(len)\n",
    "pn['median_len'] = pn['Length'].median()\n",
    "pn = pn[pn['Length'] == pn['median_len']].reset_index(drop=True)"
   ]
  },
  {
   "cell_type": "code",
   "execution_count": null,
   "metadata": {
    "deletable": false,
    "nbgrader": {
     "cell_type": "code",
     "checksum": "6a904732a4600f399af0306f5c347339",
     "grade": false,
     "grade_id": "cell-086057e5e838c7a6",
     "locked": false,
     "schema_version": 3,
     "solution": true,
     "task": false
    }
   },
   "outputs": [],
   "source": [
    "pn['Match?'] = np.where(pn['Genome Sequence'] == 'TAATTTAGGCATGCCTT', 1,0)"
   ]
  },
  {
   "cell_type": "code",
   "execution_count": null,
   "metadata": {
    "deletable": false,
    "nbgrader": {
     "cell_type": "code",
     "checksum": "19cfb31d3d9a71fe85fde6507c17a333",
     "grade": false,
     "grade_id": "cell-ade8dce5bc7b15f6",
     "locked": false,
     "schema_version": 3,
     "solution": true,
     "task": false
    }
   },
   "outputs": [],
   "source": [
    "differences = np.zeros((len(pn),len(pn)))\n",
    "for i in range(len(pn)):\n",
    "    for j in range(len(pn)):\n",
    "        differences[i, j] = sum(a != b for a, b in zip(pn.iloc[i]['Genome Sequence'], pn.iloc[j]['Genome Sequence']))"
   ]
  },
  {
   "cell_type": "code",
   "execution_count": null,
   "metadata": {
    "deletable": false,
    "nbgrader": {
     "cell_type": "code",
     "checksum": "ae16ead5d352bb0c566784f139aa3505",
     "grade": false,
     "grade_id": "cell-d1b38cfe01a75319",
     "locked": false,
     "schema_version": 3,
     "solution": true,
     "task": false
    }
   },
   "outputs": [],
   "source": [
    "maxi = 300\n",
    "similar = 0\n",
    "for i in range(len(differences)):\n",
    "    for j in range(len(differences)):\n",
    "        if differences[i][j] < 0 and differences[i][j] != 0:\n",
    "            maxi = differences[i][j]\n",
    "            similar = (i,j)"
   ]
  }
 ],
 "metadata": {
  "kernelspec": {
   "display_name": "Python 3",
   "language": "python",
   "name": "python3"
  },
  "language_info": {
   "codemirror_mode": {
    "name": "ipython",
    "version": 3
   },
   "file_extension": ".py",
   "mimetype": "text/x-python",
   "name": "python",
   "nbconvert_exporter": "python",
   "pygments_lexer": "ipython3",
   "version": "3.7.6"
  }
 },
 "nbformat": 4,
 "nbformat_minor": 4
}
