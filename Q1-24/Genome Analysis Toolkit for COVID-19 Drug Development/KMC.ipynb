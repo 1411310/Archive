{
 "cells": [
  {
   "cell_type": "markdown",
   "metadata": {
    "deletable": false,
    "editable": false,
    "nbgrader": {
     "cell_type": "markdown",
     "checksum": "d8512336e48185ac93c20fe259c16ae6",
     "grade": false,
     "grade_id": "cell-d6f87c0400a4161d",
     "locked": true,
     "schema_version": 3,
     "solution": false,
     "task": false
    }
   },
   "source": [
    "## K-means clustering"
   ]
  },
  {
   "cell_type": "code",
   "execution_count": 1,
   "metadata": {
    "deletable": false,
    "editable": false,
    "nbgrader": {
     "cell_type": "code",
     "checksum": "9bb56e548fb11a2ab806d6edf54ece4c",
     "grade": false,
     "grade_id": "cell-61654ec5a7c91faa",
     "locked": true,
     "schema_version": 3,
     "solution": false,
     "task": false
    }
   },
   "outputs": [],
   "source": [
    "import pandas as pd\n",
    "import numpy as np\n",
    "import seaborn as sns\n",
    "import matplotlib.pyplot as plt\n",
    "from sklearn.cluster import KMeans"
   ]
  },
  {
   "cell_type": "code",
   "execution_count": 2,
   "metadata": {
    "deletable": false,
    "editable": false,
    "nbgrader": {
     "cell_type": "code",
     "checksum": "9d9acd04652b7a0c3c96cdb2ead504c1",
     "grade": false,
     "grade_id": "cell-dabac1cbf04f8904",
     "locked": true,
     "schema_version": 3,
     "solution": false,
     "task": false
    }
   },
   "outputs": [
    {
     "data": {
      "text/html": [
       "<div>\n",
       "<style scoped>\n",
       "    .dataframe tbody tr th:only-of-type {\n",
       "        vertical-align: middle;\n",
       "    }\n",
       "\n",
       "    .dataframe tbody tr th {\n",
       "        vertical-align: top;\n",
       "    }\n",
       "\n",
       "    .dataframe thead th {\n",
       "        text-align: right;\n",
       "    }\n",
       "</style>\n",
       "<table border=\"1\" class=\"dataframe\">\n",
       "  <thead>\n",
       "    <tr style=\"text-align: right;\">\n",
       "      <th></th>\n",
       "      <th>query acc.verr</th>\n",
       "      <th>subject acc.ver</th>\n",
       "      <th>% identity</th>\n",
       "      <th>alignment length</th>\n",
       "      <th>mismatches</th>\n",
       "      <th>gap opens</th>\n",
       "      <th>q. start</th>\n",
       "      <th>q. end</th>\n",
       "      <th>s. start</th>\n",
       "      <th>s. end</th>\n",
       "      <th>evalue</th>\n",
       "      <th>bit score</th>\n",
       "    </tr>\n",
       "  </thead>\n",
       "  <tbody>\n",
       "    <tr>\n",
       "      <th>0</th>\n",
       "      <td>MN997409.1</td>\n",
       "      <td>MN997409.1</td>\n",
       "      <td>100.00</td>\n",
       "      <td>29882</td>\n",
       "      <td>0</td>\n",
       "      <td>0</td>\n",
       "      <td>1</td>\n",
       "      <td>29882</td>\n",
       "      <td>1</td>\n",
       "      <td>29882</td>\n",
       "      <td>0.0</td>\n",
       "      <td>55182</td>\n",
       "    </tr>\n",
       "    <tr>\n",
       "      <th>1</th>\n",
       "      <td>MN997409.1</td>\n",
       "      <td>MT020881.1</td>\n",
       "      <td>99.99</td>\n",
       "      <td>29882</td>\n",
       "      <td>3</td>\n",
       "      <td>0</td>\n",
       "      <td>1</td>\n",
       "      <td>29882</td>\n",
       "      <td>1</td>\n",
       "      <td>29882</td>\n",
       "      <td>0.0</td>\n",
       "      <td>55166</td>\n",
       "    </tr>\n",
       "    <tr>\n",
       "      <th>2</th>\n",
       "      <td>MN997409.1</td>\n",
       "      <td>MT020880.1</td>\n",
       "      <td>99.99</td>\n",
       "      <td>29882</td>\n",
       "      <td>3</td>\n",
       "      <td>0</td>\n",
       "      <td>1</td>\n",
       "      <td>29882</td>\n",
       "      <td>1</td>\n",
       "      <td>29882</td>\n",
       "      <td>0.0</td>\n",
       "      <td>55166</td>\n",
       "    </tr>\n",
       "    <tr>\n",
       "      <th>3</th>\n",
       "      <td>MN997409.1</td>\n",
       "      <td>MN985325.1</td>\n",
       "      <td>99.99</td>\n",
       "      <td>29882</td>\n",
       "      <td>3</td>\n",
       "      <td>0</td>\n",
       "      <td>1</td>\n",
       "      <td>29882</td>\n",
       "      <td>1</td>\n",
       "      <td>29882</td>\n",
       "      <td>0.0</td>\n",
       "      <td>55166</td>\n",
       "    </tr>\n",
       "    <tr>\n",
       "      <th>4</th>\n",
       "      <td>MN997409.1</td>\n",
       "      <td>MN975262.1</td>\n",
       "      <td>99.99</td>\n",
       "      <td>29882</td>\n",
       "      <td>3</td>\n",
       "      <td>0</td>\n",
       "      <td>1</td>\n",
       "      <td>29882</td>\n",
       "      <td>1</td>\n",
       "      <td>29882</td>\n",
       "      <td>0.0</td>\n",
       "      <td>55166</td>\n",
       "    </tr>\n",
       "  </tbody>\n",
       "</table>\n",
       "</div>"
      ],
      "text/plain": [
       "  query acc.verr subject acc.ver  % identity  alignment length  mismatches  \\\n",
       "0     MN997409.1      MN997409.1      100.00             29882           0   \n",
       "1     MN997409.1      MT020881.1       99.99             29882           3   \n",
       "2     MN997409.1      MT020880.1       99.99             29882           3   \n",
       "3     MN997409.1      MN985325.1       99.99             29882           3   \n",
       "4     MN997409.1      MN975262.1       99.99             29882           3   \n",
       "\n",
       "   gap opens  q. start  q. end  s. start  s. end  evalue  bit score  \n",
       "0          0         1   29882         1   29882     0.0      55182  \n",
       "1          0         1   29882         1   29882     0.0      55166  \n",
       "2          0         1   29882         1   29882     0.0      55166  \n",
       "3          0         1   29882         1   29882     0.0      55166  \n",
       "4          0         1   29882         1   29882     0.0      55166  "
      ]
     },
     "execution_count": 2,
     "metadata": {},
     "output_type": "execute_result"
    }
   ],
   "source": [
    "df = pd.read_csv('Alignment-HitTable.csv', header = None)\n",
    "df.columns = ['query acc.verr', 'subject acc.ver', '% identity', 'alignment length', 'mismatches', \n",
    "             'gap opens', 'q. start', 'q. end', 's. start', 's. end', 'evalue', 'bit score']\n",
    "df.head()"
   ]
  },
  {
   "cell_type": "code",
   "execution_count": 3,
   "metadata": {
    "deletable": false,
    "nbgrader": {
     "cell_type": "code",
     "checksum": "b86006ee1c3dfc2c3dadb36b41c72950",
     "grade": false,
     "grade_id": "cell-2a43861f4bcb3773",
     "locked": false,
     "schema_version": 3,
     "solution": true,
     "task": false
    }
   },
   "outputs": [],
   "source": [
    "df_numeric = df[['% identity', 'alignment length', 'mismatches', 'gap opens', 'q. start', 'q. end', 's. start', 's. end', 'evalue', 'bit score']]\n",
    "kmeans = KMeans(n_clusters=5, random_state=10).fit(df_numeric)\n",
    "y_pred = kmeans.predict(df_numeric)\n"
   ]
  },
  {
   "cell_type": "code",
   "execution_count": 13,
   "metadata": {
    "deletable": false,
    "nbgrader": {
     "cell_type": "code",
     "checksum": "3a10366bf861d1f1535d2e3de71a56a6",
     "grade": false,
     "grade_id": "cell-3c110c0e37f48ea1",
     "locked": false,
     "schema_version": 3,
     "solution": true,
     "task": false
    }
   },
   "outputs": [],
   "source": [
    "from sklearn.metrics import silhouette_score\n",
    "score = silhouette_score(df_numeric, y_pred)"
   ]
  },
  {
   "cell_type": "code",
   "execution_count": 11,
   "metadata": {
    "deletable": false,
    "nbgrader": {
     "cell_type": "code",
     "checksum": "911efe17f5166082a9c36740dc8288aa",
     "grade": false,
     "grade_id": "cell-d5a8840325b34617",
     "locked": false,
     "schema_version": 3,
     "solution": true,
     "task": false
    }
   },
   "outputs": [],
   "source": [
    "silhouette_scores = []\n",
    "\n",
    "for i in range(2, 10):\n",
    "    kmeans = KMeans(n_clusters=i, random_state=0)\n",
    "    cluster_labels = kmeans.fit_predict(df_numeric)\n",
    "    silhouette_avg = silhouette_score(df_numeric, cluster_labels)\n",
    "    silhouette_scores.append(silhouette_avg)"
   ]
  },
  {
   "cell_type": "code",
   "execution_count": 12,
   "metadata": {
    "deletable": false,
    "editable": false,
    "nbgrader": {
     "cell_type": "code",
     "checksum": "2eedb9cebc7ff717f4310cfeae866637",
     "grade": true,
     "grade_id": "cell-009521ae52060403",
     "locked": true,
     "points": 30,
     "schema_version": 3,
     "solution": false,
     "task": false
    }
   },
   "outputs": [
    {
     "data": {
      "image/png": "[encoded data removed]",
      "text/plain": [
       "<Figure size 432x288 with 1 Axes>"
      ]
     },
     "metadata": {
      "needs_background": "light"
     },
     "output_type": "display_data"
    }
   ],
   "source": [
    "plt.bar(range(2, len(silhouette_scores) +2), silhouette_scores)\n",
    "plt.show()"
   ]
  },
  {
   "cell_type": "code",
   "execution_count": 21,
   "metadata": {
    "deletable": false,
    "nbgrader": {
     "cell_type": "code",
     "checksum": "e9748465e175cf78ae7647c2b5dd1b01",
     "grade": false,
     "grade_id": "cell-d2ff170a7281f9cb",
     "locked": false,
     "schema_version": 3,
     "solution": true,
     "task": false
    }
   },
   "outputs": [
    {
     "name": "stdout",
     "output_type": "stream",
     "text": [
      "           % identity  alignment length   mismatches   gap opens  \\\n",
      "Cluster 1   79.454500       1957.407407   359.555556   33.629630   \n",
      "Cluster 2   90.378732       1921.250000   160.500000   12.375000   \n",
      "Cluster 3   99.975333      29690.577778     5.755556    0.111111   \n",
      "Cluster 4   82.548218      17798.709091  2918.545455  164.690909   \n",
      "Cluster 5   80.080943       5447.698113   992.000000   68.584906   \n",
      "\n",
      "               q. start        q. end      s. start        s. end  evalue  \\\n",
      "Cluster 1     20.944444   1957.925926      4.759259   1941.037037     0.0   \n",
      "Cluster 2  27896.571429  29802.267857  27730.928571  29646.517857     0.0   \n",
      "Cluster 3      5.377778  29694.955556      1.022222  29689.244444     0.0   \n",
      "Cluster 4   3872.781818  21578.963636   3785.345455  21492.363636     0.0   \n",
      "Cluster 5  22531.716981  27933.490566  22405.603774  27804.660377     0.0   \n",
      "\n",
      "              bit score  \n",
      "Cluster 1   1367.111111  \n",
      "Cluster 2   2534.410714  \n",
      "Cluster 3  54789.777778  \n",
      "Cluster 4  15521.654545  \n",
      "Cluster 5   3966.603774  \n"
     ]
    }
   ],
   "source": [
    "from sklearn.preprocessing import StandardScaler\n",
    "scaler = StandardScaler()\n",
    "normalized = scaler.fit_transform(df_numeric)\n",
    "kmeans = KMeans(n_clusters = 5, random_state=0)\n",
    "kmeans.fit_predict(normalized)\n",
    "cluster_centers = pd.DataFrame(scaler.inverse_transform(kmeans.cluster_centers_), columns =df_numeric.columns)\n",
    "cluster_centers.index = ['Cluster 1', 'Cluster 2', 'Cluster 3', 'Cluster 4', 'Cluster 5']\n",
    "print(cluster_centers)"
   ]
  }
 ],
 "metadata": {
  "kernelspec": {
   "display_name": "Python 3",
   "language": "python",
   "name": "python3"
  },
  "language_info": {
   "codemirror_mode": {
    "name": "ipython",
    "version": 3
   },
   "file_extension": ".py",
   "mimetype": "text/x-python",
   "name": "python",
   "nbconvert_exporter": "python",
   "pygments_lexer": "ipython3",
   "version": "3.7.6"
  }
 },
 "nbformat": 4,
 "nbformat_minor": 4
}
